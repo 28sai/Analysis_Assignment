{
 "cells": [
  {
   "cell_type": "code",
   "execution_count": 23,
   "id": "1ed70629-b42e-4df0-8957-bbf052d3e833",
   "metadata": {},
   "outputs": [],
   "source": [
    "import pandas as pd"
   ]
  },
  {
   "cell_type": "code",
   "execution_count": 24,
   "id": "10a6fdf7-b042-4c60-a7e4-c561036576ad",
   "metadata": {},
   "outputs": [],
   "source": [
    "sales_data=pd.DataFrame({\n",
    "    \"Timestamp\":[\"21-07-2021\", \"28-07-2021\", \"04-08-2021\", \"11-08-2021\", \"18-08-2021\", \"25-08-2021\", \"01-09-2021\", \"08-09-2021\", \"15-09-2021\", \"22-09-2021\",\"29-09-2021\", \"06-10-2021\", \"13-10-2021\"],\n",
    "    \"Sales\":[129420, 150990, 107850, 53925, 215700, 291195, 107850, 312765, 431400, 97065, 204915, 215700, 53925]\n",
    "})\n"
   ]
  },
  {
   "cell_type": "code",
   "execution_count": 25,
   "id": "e1ed7bc8-ea74-4c92-9ee8-7fdd9bafe1e7",
   "metadata": {},
   "outputs": [],
   "source": [
    "tv_data=pd.DataFrame({\n",
    "    \"Timestamp\":[\"4-08-2021\", \"11-08-2021\", \"18-08-2021\", \"25-08-2021\", \"1-08-2021\"],\n",
    "    \"TV GRPs\":[5, 17, 25, 29, 23]\n",
    "})\n",
    "\n"
   ]
  },
  {
   "cell_type": "code",
   "execution_count": 26,
   "id": "2c956af8-eedd-4320-baee-4728470a6e1c",
   "metadata": {},
   "outputs": [],
   "source": [
    "video_data=pd.DataFrame({\n",
    "    \"Timestamp\":[\"21-07-2021\", \"28-07-2021\", \"04-08-2021\", \"11-08-2021\", \"18-08-2021\",\n",
    "                  \"25-08-2021\", \"01-09-2021\"],\n",
    "    \"Video Impressions\":[2500, 5000, 10000, 7500, 11250, 7000, 5750]\n",
    "})\n"
   ]
  },
  {
   "cell_type": "code",
   "execution_count": 27,
   "id": "0a1634e3-cef1-4677-b016-d422aa4f1b4c",
   "metadata": {},
   "outputs": [
    {
     "name": "stdout",
     "output_type": "stream",
     "text": [
      "     Timestamp   Sales  TV GRPs  Video Impressions\n",
      "0   21-07-2021  129420      NaN             2500.0\n",
      "1   28-07-2021  150990      NaN             5000.0\n",
      "2   04-08-2021  107850      NaN            10000.0\n",
      "3   11-08-2021   53925     17.0             7500.0\n",
      "4   18-08-2021  215700     25.0            11250.0\n",
      "5   25-08-2021  291195     29.0             7000.0\n",
      "6   01-09-2021  107850      NaN             5750.0\n",
      "7   08-09-2021  312765      NaN                NaN\n",
      "8   15-09-2021  431400      NaN                NaN\n",
      "9   22-09-2021   97065      NaN                NaN\n",
      "10  29-09-2021  204915      NaN                NaN\n",
      "11  06-10-2021  215700      NaN                NaN\n",
      "12  13-10-2021   53925      NaN                NaN\n"
     ]
    }
   ],
   "source": [
    "m_df=sales_data.merge(tv_data, on='Timestamp',how='left')\n",
    "m_df=m_df.merge(video_data, on='Timestamp',how='left')\n",
    "print(merged_df)"
   ]
  },
  {
   "cell_type": "code",
   "execution_count": 17,
   "id": "ddf17b87-c1da-4826-81db-36e382b90b7e",
   "metadata": {},
   "outputs": [],
   "source": [
    "# SELECT s.Timestamp, s.Sales, t.[TV GRPs], v.[Video Impressions] FROM sales_data s LEFT JOIN tv_data t ON s.Timestamp = t.Timestamp LEFT JOIN video_data v ON s.Timestamp = v.Timestamp;\n"
   ]
  },
  {
   "cell_type": "code",
   "execution_count": null,
   "id": "e5b04a62-9ee0-4e4a-a8ba-3fd5a93b6210",
   "metadata": {},
   "outputs": [],
   "source": []
  }
 ],
 "metadata": {
  "kernelspec": {
   "display_name": "Python 3 (ipykernel)",
   "language": "python",
   "name": "python3"
  },
  "language_info": {
   "codemirror_mode": {
    "name": "ipython",
    "version": 3
   },
   "file_extension": ".py",
   "mimetype": "text/x-python",
   "name": "python",
   "nbconvert_exporter": "python",
   "pygments_lexer": "ipython3",
   "version": "3.13.3"
  }
 },
 "nbformat": 4,
 "nbformat_minor": 5
}
