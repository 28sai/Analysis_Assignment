{
 "cells": [
  {
   "cell_type": "code",
   "execution_count": 2,
   "id": "710e0295-dda5-4aba-ac48-6d45bae70c4b",
   "metadata": {},
   "outputs": [],
   "source": [
    "import pandas as pd\n",
    "\n",
    "data = {\n",
    "'Name': ['Employee_1', 'Employee_2', 'Employee_3', 'Employee_4', 'Employee_5', \n",
    "'Employee_6', 'Employee_7', 'Employee_8', 'Employee_9', 'Employee_10', \n",
    "'Employee_11', 'Employee_12', 'Employee_13', 'Employee_14', 'Employee_15', \n",
    "'Employee_16', 'Employee_17', 'Employee_18', 'Employee_19', 'Employee_20', \n",
    "'Employee_21', 'Employee_22', 'Employee_23', 'Employee_24', 'Employee_25', \n",
    "'Employee_26', 'Employee_27', 'Employee_28', 'Employee_29', 'Employee_30'],\n",
    "'Salary': [54895.0, 38784.0, 120000.0, 60309.0, 46788.0, \n",
    "50598.0, 61915.0, 50651.0, 38155.0, 55480.0, \n",
    "49396.0, 64183.0, 38894.0, 46672.0, 20000.0, \n",
    "57935.0, 57055.0, 44719.0, 66267.0, 48339.0, \n",
    "44490.0, 48817.0, 39738.0, 59433.0, 80823.0, \n",
    "80000.0, 52704.0, 54168.0, 56569.0, 45481.0],\n",
    "'Age': [49, 48, 34, 33, 59, 36, 34, 30, 36, 29, \n",
    "29, 54, 55, 29, 53, 34, 23, 41, 58, 41, \n",
    "45, 22, 39, 47, 22, 30, 53, 33, 23, 52],\n",
    "'Function': ['HR', 'Sales', 'Manager', 'Manager', 'HR', \n",
    "'Sales', 'Manager', 'HR', 'Sales', 'HR', \n",
    "'Sales', 'Developer', 'Developer', 'Sales', 'HR', \n",
    "'Sales', 'Developer', 'Developer', 'HR', 'Sales', \n",
    "'HR', 'Manager', 'HR', 'Sales', 'HR', 'Sales', \n",
    "'Sales', 'Developer', 'Developer', 'HR']\n",
    "}\n",
    "\n"
   ]
  },
  {
   "cell_type": "code",
   "execution_count": 3,
   "id": "13919098-03ef-4c2d-b03f-cb5c7242132d",
   "metadata": {},
   "outputs": [
    {
     "name": "stdout",
     "output_type": "stream",
     "text": [
      "           Name    Salary  Age   Function\n",
      "0    Employee_1   54895.0   49         HR\n",
      "1    Employee_2   38784.0   48      Sales\n",
      "2    Employee_3  120000.0   34    Manager\n",
      "3    Employee_4   60309.0   33    Manager\n",
      "4    Employee_5   46788.0   59         HR\n",
      "5    Employee_6   50598.0   36      Sales\n",
      "6    Employee_7   61915.0   34    Manager\n",
      "7    Employee_8   50651.0   30         HR\n",
      "8    Employee_9   38155.0   36      Sales\n",
      "9   Employee_10   55480.0   29         HR\n",
      "10  Employee_11   49396.0   29      Sales\n",
      "11  Employee_12   64183.0   54  Developer\n",
      "12  Employee_13   38894.0   55  Developer\n",
      "13  Employee_14   46672.0   29      Sales\n",
      "14  Employee_15   20000.0   53         HR\n",
      "15  Employee_16   57935.0   34      Sales\n",
      "16  Employee_17   57055.0   23  Developer\n",
      "17  Employee_18   44719.0   41  Developer\n",
      "18  Employee_19   66267.0   58         HR\n",
      "19  Employee_20   48339.0   41      Sales\n",
      "20  Employee_21   44490.0   45         HR\n",
      "21  Employee_22   48817.0   22    Manager\n",
      "22  Employee_23   39738.0   39         HR\n",
      "23  Employee_24   59433.0   47      Sales\n",
      "24  Employee_25   80823.0   22         HR\n",
      "25  Employee_26   80000.0   30      Sales\n",
      "26  Employee_27   52704.0   53      Sales\n",
      "27  Employee_28   54168.0   33  Developer\n",
      "28  Employee_29   56569.0   23  Developer\n",
      "29  Employee_30   45481.0   52         HR\n"
     ]
    }
   ],
   "source": [
    "# Convert to DataFrame\n",
    "df = pd.DataFrame(data)\n",
    "\n",
    "# Display the DataFrame\n",
    "print(df)\n",
    "##---------------------------------------------------------------------------\n"
   ]
  },
  {
   "cell_type": "code",
   "execution_count": 4,
   "id": "c653f348-063a-4c33-bb88-8dc3477e59ee",
   "metadata": {},
   "outputs": [
    {
     "name": "stdout",
     "output_type": "stream",
     "text": [
      "  Department Department_Code\n",
      "0         HR           HR001\n",
      "1      Sales          SAL002\n",
      "2    Manager          MGR003\n",
      "3  Developer          DEV004\n"
     ]
    }
   ],
   "source": [
    "\n",
    "# Define the department to code mapping\n",
    "department_mapping = {\n",
    "'HR': 'HR001',\n",
    "'Sales': 'SAL002',\n",
    "'Manager': 'MGR003',\n",
    "'Developer': 'DEV004'\n",
    "}\n",
    "\n",
    "# Convert the dictionary to a DataFrame\n",
    "department_df = pd.DataFrame(list(department_mapping.items()), columns=['Department', 'Department_Code'])\n",
    "\n",
    "# Display the DataFrame\n",
    "print(department_df)\n",
    "\n"
   ]
  },
  {
   "cell_type": "code",
   "execution_count": 9,
   "id": "c1bb074e-c70f-4e99-bb18-e5f73563b384",
   "metadata": {},
   "outputs": [],
   "source": [
    "import numpy as np\n",
    "bins=[0,20,30,40,50,np.inf]\n",
    "labels=['<20 years','20-30 years','30-40 years','40-50 years','>50 years']\n",
    "df['Age_Bucketed']=pd.cut(df['Age'],bins=bins,labels=labels,right=False)\n"
   ]
  },
  {
   "cell_type": "code",
   "execution_count": 10,
   "id": "a35c6d80-929d-4815-972e-0a7a00959773",
   "metadata": {},
   "outputs": [
    {
     "data": {
      "text/html": [
       "<div>\n",
       "<style scoped>\n",
       "    .dataframe tbody tr th:only-of-type {\n",
       "        vertical-align: middle;\n",
       "    }\n",
       "\n",
       "    .dataframe tbody tr th {\n",
       "        vertical-align: top;\n",
       "    }\n",
       "\n",
       "    .dataframe thead th {\n",
       "        text-align: right;\n",
       "    }\n",
       "</style>\n",
       "<table border=\"1\" class=\"dataframe\">\n",
       "  <thead>\n",
       "    <tr style=\"text-align: right;\">\n",
       "      <th></th>\n",
       "      <th>Name</th>\n",
       "      <th>Salary</th>\n",
       "      <th>Age</th>\n",
       "      <th>Function</th>\n",
       "      <th>Age_Bucketed</th>\n",
       "    </tr>\n",
       "  </thead>\n",
       "  <tbody>\n",
       "    <tr>\n",
       "      <th>0</th>\n",
       "      <td>Employee_1</td>\n",
       "      <td>54895.0</td>\n",
       "      <td>49</td>\n",
       "      <td>HR</td>\n",
       "      <td>40-50 years</td>\n",
       "    </tr>\n",
       "    <tr>\n",
       "      <th>1</th>\n",
       "      <td>Employee_2</td>\n",
       "      <td>38784.0</td>\n",
       "      <td>48</td>\n",
       "      <td>Sales</td>\n",
       "      <td>40-50 years</td>\n",
       "    </tr>\n",
       "    <tr>\n",
       "      <th>2</th>\n",
       "      <td>Employee_3</td>\n",
       "      <td>120000.0</td>\n",
       "      <td>34</td>\n",
       "      <td>Manager</td>\n",
       "      <td>30-40 years</td>\n",
       "    </tr>\n",
       "    <tr>\n",
       "      <th>3</th>\n",
       "      <td>Employee_4</td>\n",
       "      <td>60309.0</td>\n",
       "      <td>33</td>\n",
       "      <td>Manager</td>\n",
       "      <td>30-40 years</td>\n",
       "    </tr>\n",
       "    <tr>\n",
       "      <th>4</th>\n",
       "      <td>Employee_5</td>\n",
       "      <td>46788.0</td>\n",
       "      <td>59</td>\n",
       "      <td>HR</td>\n",
       "      <td>&gt;50 years</td>\n",
       "    </tr>\n",
       "  </tbody>\n",
       "</table>\n",
       "</div>"
      ],
      "text/plain": [
       "         Name    Salary  Age Function Age_Bucketed\n",
       "0  Employee_1   54895.0   49       HR  40-50 years\n",
       "1  Employee_2   38784.0   48    Sales  40-50 years\n",
       "2  Employee_3  120000.0   34  Manager  30-40 years\n",
       "3  Employee_4   60309.0   33  Manager  30-40 years\n",
       "4  Employee_5   46788.0   59       HR    >50 years"
      ]
     },
     "execution_count": 10,
     "metadata": {},
     "output_type": "execute_result"
    }
   ],
   "source": [
    "df.head()"
   ]
  },
  {
   "cell_type": "code",
   "execution_count": 11,
   "id": "bcdd515a-8f9d-4b60-b902-9b36b3b50846",
   "metadata": {},
   "outputs": [
    {
     "name": "stdout",
     "output_type": "stream",
     "text": [
      "         Name    Salary  Age Function Age_Bucketed Function_Code\n",
      "0  Employee_1   54895.0   49       HR  40-50 years         HR001\n",
      "1  Employee_2   38784.0   48    Sales  40-50 years        SAL002\n",
      "2  Employee_3  120000.0   34  Manager  30-40 years        MGR003\n",
      "3  Employee_4   60309.0   33  Manager  30-40 years        MGR003\n",
      "4  Employee_5   46788.0   59       HR    >50 years         HR001\n"
     ]
    }
   ],
   "source": [
    "df = df.merge(department_df, left_on='Function', right_on='Department', how='left')\n",
    "# Drop the extra 'Department' column from the merge\n",
    "df.drop('Department', axis=1, inplace=True)\n",
    "df.rename(columns={'Department_Code': 'Function_Code'}, inplace=True)\n",
    "print(df.head())\n"
   ]
  },
  {
   "cell_type": "code",
   "execution_count": null,
   "id": "d4cab965-71a8-497a-9560-0b4eff9abed4",
   "metadata": {},
   "outputs": [],
   "source": []
  },
  {
   "cell_type": "code",
   "execution_count": null,
   "id": "0f1dc7b3-79c3-45f9-8291-26367780699c",
   "metadata": {},
   "outputs": [],
   "source": []
  },
  {
   "cell_type": "code",
   "execution_count": 12,
   "id": "3d8faca4-4418-4501-a9af-840f4df7982b",
   "metadata": {},
   "outputs": [
    {
     "name": "stdout",
     "output_type": "stream",
     "text": [
      "         Name    Salary  Age Function Age_Bucketed Function_Code  \\\n",
      "0  Employee_1   54895.0   49       HR  40-50 years         HR001   \n",
      "1  Employee_2   38784.0   48    Sales  40-50 years        SAL002   \n",
      "2  Employee_3  120000.0   34  Manager  30-40 years        MGR003   \n",
      "3  Employee_4   60309.0   33  Manager  30-40 years        MGR003   \n",
      "4  Employee_5   46788.0   59       HR    >50 years         HR001   \n",
      "\n",
      "          Outlier  \n",
      "0  Not an Outlier  \n",
      "1  Not an Outlier  \n",
      "2         Outlier  \n",
      "3  Not an Outlier  \n",
      "4  Not an Outlier  \n"
     ]
    }
   ],
   "source": [
    "Q1 = df['Salary'].quantile(0.25)\n",
    "Q3 = df['Salary'].quantile(0.75)\n",
    "IQR = Q3 - Q1\n",
    "\n",
    "lower_bound = Q1 - 1.5 * IQR\n",
    "upper_bound = Q3 + 1.5 * IQR\n",
    "df['Outlier'] = df['Salary'].apply(lambda x: 'Outlier' if x < lower_bound or x > upper_bound else 'Not an Outlier')\n",
    "print(df.head())\n"
   ]
  },
  {
   "cell_type": "code",
   "execution_count": null,
   "id": "3899500b-872c-4de3-b6b7-b0ad1b4c0b45",
   "metadata": {},
   "outputs": [],
   "source": []
  }
 ],
 "metadata": {
  "kernelspec": {
   "display_name": "Python 3 (ipykernel)",
   "language": "python",
   "name": "python3"
  },
  "language_info": {
   "codemirror_mode": {
    "name": "ipython",
    "version": 3
   },
   "file_extension": ".py",
   "mimetype": "text/x-python",
   "name": "python",
   "nbconvert_exporter": "python",
   "pygments_lexer": "ipython3",
   "version": "3.13.3"
  }
 },
 "nbformat": 4,
 "nbformat_minor": 5
}
